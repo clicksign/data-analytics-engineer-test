{
 "cells": [
  {
   "cell_type": "markdown",
   "id": "a5df9008-2a7b-438c-b20b-dee6329684c4",
   "metadata": {},
   "source": [
    "### Modificando tabelas\n",
    "Este script tem como objetivo manipular algumas tabelas e criar novas versões, sendo:\n",
    "- Relação entre as tabelas `player` e `player_attributes` em uma nova tabela, chamada `player_attributes_modified`, onde cada key do json é uma nova coluna\n",
    "- Relação entre as tabelas `team` e `team_Attributes` em uma nova tabela, chamada `team_attributes_modified`, onde cada key do json é uma nova coluna\n",
    "- Criar uma tabela chamada `match_modified` cuja coluna seja representada como JSON, onde as chaves precisam ser referentes às colunas da tabela Match, sendo elas : id,match_api_id, home_team_api_id, away_team_api_id\n"
   ]
  },
  {
   "cell_type": "markdown",
   "id": "e20c0fc1-8b0c-48bd-9e6d-3e44484f67fd",
   "metadata": {
    "tags": []
   },
   "source": [
    "#### Import das libs"
   ]
  },
  {
   "cell_type": "code",
   "execution_count": 1,
   "id": "1b7b18fc-396b-4223-8fed-3143e0249ae4",
   "metadata": {},
   "outputs": [],
   "source": [
    "#Importando das libs que serão utilizadas no processo\n",
    "import sqlite3"
   ]
  },
  {
   "cell_type": "markdown",
   "id": "3dda6c5f-db40-4b2c-964d-24d1e4fc075d",
   "metadata": {},
   "source": [
    "#### Conectado ao banco e iniciando cursor"
   ]
  },
  {
   "cell_type": "code",
   "execution_count": 10,
   "id": "1b631178-f25b-44fb-88b2-4cff1c75a76a",
   "metadata": {},
   "outputs": [],
   "source": [
    "#conectando ao banco de dados test_analytics_engineer\n",
    "conn = sqlite3.connect('test_analytics_engineer.db')"
   ]
  },
  {
   "cell_type": "code",
   "execution_count": 11,
   "id": "f1979851-9e09-4efe-95bf-6e8062ee7b7c",
   "metadata": {},
   "outputs": [],
   "source": [
    "#instanciando o cursor\n",
    "c = conn.cursor()"
   ]
  },
  {
   "cell_type": "markdown",
   "id": "8c8c730d-ab66-4cb2-bcc8-06ca9573948d",
   "metadata": {
    "tags": []
   },
   "source": [
    "#### Criação das novas tabelas"
   ]
  },
  {
   "cell_type": "markdown",
   "id": "ccaff07c-1035-4865-a4a8-aa90a36d9ae1",
   "metadata": {
    "tags": []
   },
   "source": [
    "##### Player Attributes Modified"
   ]
  },
  {
   "cell_type": "code",
   "execution_count": 4,
   "id": "3cb75c04-c850-4caf-9ec5-58df8f58aa32",
   "metadata": {},
   "outputs": [
    {
     "ename": "OperationalError",
     "evalue": "malformed JSON",
     "output_type": "error",
     "traceback": [
      "\u001b[1;31m---------------------------------------------------------------------------\u001b[0m",
      "\u001b[1;31mOperationalError\u001b[0m                          Traceback (most recent call last)",
      "Input \u001b[1;32mIn [4]\u001b[0m, in \u001b[0;36m<cell line: 2>\u001b[1;34m()\u001b[0m\n\u001b[0;32m      1\u001b[0m \u001b[38;5;66;03m#realiando teste de extração de algumas colunas do JSON de attributes\u001b[39;00m\n\u001b[1;32m----> 2\u001b[0m \u001b[43mc\u001b[49m\u001b[38;5;241;43m.\u001b[39;49m\u001b[43mexecute\u001b[49m\u001b[43m(\u001b[49m\u001b[38;5;124;43m'''\u001b[39;49m\n\u001b[0;32m      3\u001b[0m \u001b[38;5;124;43m    SELECT\u001b[39;49m\n\u001b[0;32m      4\u001b[0m \u001b[38;5;124;43m        id,\u001b[39;49m\n\u001b[0;32m      5\u001b[0m \u001b[38;5;124;43m        player_attributes,\u001b[39;49m\n\u001b[0;32m      6\u001b[0m \u001b[38;5;124;43m        JSON_EXTRACT(player_attributes,\u001b[39;49m\u001b[38;5;124;43m'\u001b[39;49m\u001b[38;5;124;43m$.id\u001b[39;49m\u001b[38;5;124;43m'\u001b[39;49m\u001b[38;5;124;43m) AS id,\u001b[39;49m\n\u001b[0;32m      7\u001b[0m \u001b[38;5;124;43m        JSON_EXTRACT(player_attributes,\u001b[39;49m\u001b[38;5;124;43m'\u001b[39;49m\u001b[38;5;124;43m$.player_fifa_api_id\u001b[39;49m\u001b[38;5;124;43m'\u001b[39;49m\u001b[38;5;124;43m) AS player_fifa_api_id,\u001b[39;49m\n\u001b[0;32m      8\u001b[0m \u001b[38;5;124;43m        JSON_EXTRACT(player_attributes,\u001b[39;49m\u001b[38;5;124;43m'\u001b[39;49m\u001b[38;5;124;43m$.player_api_id\u001b[39;49m\u001b[38;5;124;43m'\u001b[39;49m\u001b[38;5;124;43m) AS player_api_id,\u001b[39;49m\n\u001b[0;32m      9\u001b[0m \u001b[38;5;124;43m        JSON_EXTRACT(player_attributes,\u001b[39;49m\u001b[38;5;124;43m'\u001b[39;49m\u001b[38;5;124;43m$.date\u001b[39;49m\u001b[38;5;124;43m'\u001b[39;49m\u001b[38;5;124;43m) AS date\u001b[39;49m\n\u001b[0;32m     10\u001b[0m \u001b[38;5;124;43m    FROM\u001b[39;49m\n\u001b[0;32m     11\u001b[0m \u001b[38;5;124;43m        player_attributes\u001b[39;49m\n\u001b[0;32m     12\u001b[0m \u001b[38;5;124;43m'''\u001b[39;49m\u001b[43m)\u001b[49m\u001b[38;5;241;43m.\u001b[39;49m\u001b[43mfetchall\u001b[49m\u001b[43m(\u001b[49m\u001b[43m)\u001b[49m\n",
      "\u001b[1;31mOperationalError\u001b[0m: malformed JSON"
     ]
    }
   ],
   "source": [
    "#realiando teste de extração de algumas colunas do JSON de attributes\n",
    "c.execute('''\n",
    "    SELECT\n",
    "        id,\n",
    "        player_attributes,\n",
    "        JSON_EXTRACT(player_attributes,'$.id') AS id,\n",
    "        JSON_EXTRACT(player_attributes,'$.player_fifa_api_id') AS player_fifa_api_id,\n",
    "        JSON_EXTRACT(player_attributes,'$.player_api_id') AS player_api_id,\n",
    "        JSON_EXTRACT(player_attributes,'$.date') AS date\n",
    "    FROM\n",
    "        player_attributes\n",
    "''').fetchall()"
   ]
  },
  {
   "cell_type": "markdown",
   "id": "23325e69-11a8-4fcd-b1f0-2a03222f7bde",
   "metadata": {},
   "source": [
    "Temos casos de JSON com problema de incosistência"
   ]
  },
  {
   "cell_type": "code",
   "execution_count": 9,
   "id": "5f47b027-2f64-4b88-87e4-70236b93ad0b",
   "metadata": {},
   "outputs": [
    {
     "data": {
      "text/plain": [
       "(3624,)"
      ]
     },
     "execution_count": 9,
     "metadata": {},
     "output_type": "execute_result"
    }
   ],
   "source": [
    "# validando volumetria de json com problemas\n",
    "c.execute('''\n",
    "    SELECT\n",
    "       COUNT(1)\n",
    "    FROM\n",
    "        player_attributes\n",
    "    WHERE\n",
    "        NOT(JSON_VALID(player_attributes))\n",
    "''').fetchone()"
   ]
  },
  {
   "cell_type": "code",
   "execution_count": 10,
   "id": "2acfd49a-312b-4861-baf0-734142b0227c",
   "metadata": {},
   "outputs": [
    {
     "data": {
      "text/plain": [
       "(373,\n",
       " '{\"id\": \"374\", \"player_fifa_api_id\": \"156626\", \"player_api_id\": \"46447\", \"date\": \"2010-08-30 00:00:00\", \"overall_rating\": 64.0, \"potential\": 71.0, \"preferred_foot\": \"right\", \"attacking_work_rate\": NaN, \"defensive_work_rate\": \"_0\", \"crossing\": 41.0, \"finishing\": 33.0, \"heading_accuracy\": 74.0, \"short_passing\": 57.0, \"volleys\": 24.0, \"dribbling\": 30.0, \"curve\": 35.0, \"free_kick_accuracy\": 40.0, \"long_passing\": 45.0, \"ball_control\": 44.0, \"acceleration\": 60.0, \"sprint_speed\": 61.0, \"agility\": 59.0, \"reactions\": 58.0, \"balance\": 73.0, \"shot_power\": 48.0, \"jumping\": 75.0, \"stamina\": 64.0, \"strength\": 71.0, \"long_shots\": 39.0, \"aggression\": 71.0, \"interceptions\": 58.0, \"positioning\": 28.0, \"vision\": 61.0, \"penalties\": 39.0, \"marking\": 62.0, \"standing_tackle\": 61.0, \"sliding_tackle\": 57.0, \"gk_diving\": 15.0, \"gk_handling\": 14.0, \"gk_kicking\": 13.0, \"gk_positioning\": 10.0, \"gk_reflexes\": 12.0}')"
      ]
     },
     "execution_count": 10,
     "metadata": {},
     "output_type": "execute_result"
    }
   ],
   "source": [
    "# checando 1 caso\n",
    "c.execute('''\n",
    "    SELECT\n",
    "       *\n",
    "    FROM\n",
    "        player_attributes\n",
    "    WHERE\n",
    "        NOT(JSON_VALID(player_attributes))\n",
    "''').fetchone()"
   ]
  },
  {
   "cell_type": "markdown",
   "id": "595f6052-db89-4e29-b2f2-ed694916a9df",
   "metadata": {},
   "source": [
    "Temos 1 dos atributos que está com NaN e o `JSON_EXTRACT` não aceita. A solução será substituir o valor para `NULL`"
   ]
  },
  {
   "cell_type": "code",
   "execution_count": 11,
   "id": "595891fc-d1a7-467e-8b06-cad963f1de2b",
   "metadata": {},
   "outputs": [
    {
     "data": {
      "text/plain": [
       "(1, 3624)"
      ]
     },
     "execution_count": 11,
     "metadata": {},
     "output_type": "execute_result"
    }
   ],
   "source": [
    "#testando se a solução do replace atende todos os casos ou se temos algum problema diferente\n",
    "c.execute('''\n",
    "    SELECT\n",
    "        JSON_VALID(REPLACE(player_attributes,'NaN','null')) AS json_validation,\n",
    "        COUNT(1) AS qtd\n",
    "    FROM\n",
    "        player_attributes\n",
    "    WHERE\n",
    "        NOT(JSON_VALID(player_attributes))\n",
    "    GROUP BY\n",
    "        json_validation\n",
    "''').fetchone()"
   ]
  },
  {
   "cell_type": "markdown",
   "id": "2ece6ccd-949b-43e9-839f-a7ef11e9011d",
   "metadata": {},
   "source": [
    "Todos os casos estavam com o mesmo problema!"
   ]
  },
  {
   "cell_type": "code",
   "execution_count": 12,
   "id": "4e242c97-4dfa-4f53-8417-6006e87706c4",
   "metadata": {},
   "outputs": [
    {
     "data": {
      "text/plain": [
       "[(11060, 11060, 11060)]"
      ]
     },
     "execution_count": 12,
     "metadata": {},
     "output_type": "execute_result"
    }
   ],
   "source": [
    "#validando possíveis chaves do player na tabela player\n",
    "c.execute('''\n",
    "        SELECT\n",
    "            COUNT(1) AS qtd,\n",
    "            COUNT(DISTINCT player_api_id) AS pids,\n",
    "            COUNT(DISTINCT player_fifa_api_id) AS pfids\n",
    "        FROM\n",
    "            player\n",
    "        ''').fetchall()"
   ]
  },
  {
   "cell_type": "code",
   "execution_count": 13,
   "id": "3a13187b-c7a5-44e0-94e2-1a8418bf1167",
   "metadata": {},
   "outputs": [
    {
     "data": {
      "text/plain": [
       "[(11069, 11060, 11062)]"
      ]
     },
     "execution_count": 13,
     "metadata": {},
     "output_type": "execute_result"
    }
   ],
   "source": [
    "#testando as chaves do player na tabela de attributes\n",
    "c.execute('''\n",
    "        WITH player_attributes_key AS (\n",
    "            SELECT DISTINCT\n",
    "                JSON_EXTRACT(REPLACE(player_attributes,'NaN','null'),'$.player_api_id') AS player_api_id,\n",
    "                JSON_EXTRACT(REPLACE(player_attributes,'NaN','null'),'$.player_fifa_api_id') AS player_fifa_api_id\n",
    "            FROM \n",
    "                player_attributes\n",
    "        )\n",
    "        \n",
    "        SELECT\n",
    "            COUNT(1) AS qtd,\n",
    "            COUNT(DISTINCT player_api_id) AS pids,\n",
    "            COUNT(DISTINCT player_fifa_api_id) AS pfids\n",
    "        FROM \n",
    "            player_attributes_key\n",
    "        ''').fetchall()"
   ]
  },
  {
   "cell_type": "markdown",
   "id": "5fd32391-36cf-460d-b2a0-5a20f586c74b",
   "metadata": {},
   "source": [
    "Aparentemente a chave mais confiável é a `player_fifa_api_id`"
   ]
  },
  {
   "cell_type": "code",
   "execution_count": 14,
   "id": "424b2473-8be4-4198-b93e-8f8bda051044",
   "metadata": {},
   "outputs": [
    {
     "data": {
      "text/plain": [
       "[('118359', '32968'),\n",
       " ('118359', '38966'),\n",
       " ('184431', '96540'),\n",
       " ('184431', '42116'),\n",
       " ('190195', '37254'),\n",
       " ('190195', '156664'),\n",
       " ('192635', '150396'),\n",
       " ('192635', '164128'),\n",
       " ('198394', '282274'),\n",
       " ('198394', '163838'),\n",
       " ('206652', '300532'),\n",
       " ('206652', '30271'),\n",
       " ('208618', '359193'),\n",
       " ('208618', '11285')]"
      ]
     },
     "execution_count": 14,
     "metadata": {},
     "output_type": "execute_result"
    }
   ],
   "source": [
    "#Checando casos player_fifa_api_id duplicados\n",
    "c.execute('''\n",
    "        WITH player_attributes_key AS (\n",
    "            SELECT DISTINCT\n",
    "                JSON_EXTRACT(REPLACE(player_attributes,'NaN','null'),'$.player_fifa_api_id') AS player_fifa_api_id,\n",
    "                JSON_EXTRACT(REPLACE(player_attributes,'NaN','null'),'$.player_api_id') AS player_api_id\n",
    "            FROM \n",
    "                player_attributes\n",
    "        )\n",
    "        \n",
    "        SELECT *\n",
    "        FROM\n",
    "            player_attributes_key\n",
    "        WHERE\n",
    "            player_fifa_api_id IN (\n",
    "                SELECT\n",
    "                    player_fifa_api_id\n",
    "                FROM \n",
    "                    player_attributes_key\n",
    "                GROUP BY\n",
    "                    player_fifa_api_id\n",
    "                HAVING COUNT(1) > 1\n",
    "            )\n",
    "        ORDER BY\n",
    "            player_fifa_api_id\n",
    "        ''').fetchall()"
   ]
  },
  {
   "cell_type": "markdown",
   "id": "81ca0c03-3785-43f2-a45a-0ad101bb2bd4",
   "metadata": {},
   "source": [
    "Dos 7 casos de duplicidade,todos foram por causa de alteração no `player_api_id`. Mesmo assim, podemos utilizar o `player_fifa_api_id` como chave entre as tabelas, já que na `player` esta informação está deduplicada."
   ]
  },
  {
   "cell_type": "code",
   "execution_count": 5,
   "id": "50f5a5c0-ea29-4f9f-a6e7-cab8b3878609",
   "metadata": {},
   "outputs": [
    {
     "data": {
      "text/plain": [
       "<sqlite3.Cursor at 0x1b35a9afdc0>"
      ]
     },
     "execution_count": 5,
     "metadata": {},
     "output_type": "execute_result"
    }
   ],
   "source": [
    "#criação da tabela, extraindo as informações do json da player_attribuites e cruzando com a player pelo player_fifa_api_id\n",
    "c.execute('''\n",
    "        CREATE TABLE IF NOT EXISTS player_attributes_modified AS\n",
    "        WITH player_attributes_extracted AS (\n",
    "            SELECT \n",
    "                CAST(JSON_EXTRACT(REPLACE(player_attributes,'NaN','null'),'$.id') AS INTEGER) AS attribute_id,\n",
    "                CAST(JSON_EXTRACT(REPLACE(player_attributes,'NaN','null'),'$.player_fifa_api_id') AS INTEGER) AS player_fifa_api_id,\n",
    "                CAST(JSON_EXTRACT(REPLACE(player_attributes,'NaN','null'),'$.player_api_id') AS INTEGER) AS player_api_id,\n",
    "                JSON_EXTRACT(REPLACE(player_attributes,'NaN','null'),'$.date') AS date,\n",
    "                JSON_EXTRACT(REPLACE(player_attributes,'NaN','null'),'$.overall_rating') AS overall_rating,\n",
    "                JSON_EXTRACT(REPLACE(player_attributes,'NaN','null'),'$.potential') AS potential,\n",
    "                JSON_EXTRACT(REPLACE(player_attributes,'NaN','null'),'$.preferred_foot') AS preferred_foot,\n",
    "                JSON_EXTRACT(REPLACE(player_attributes,'NaN','null'),'$.right') AS right,\n",
    "                JSON_EXTRACT(REPLACE(player_attributes,'NaN','null'),'$.attacking_work_rate') AS attacking_work_rate,\n",
    "                JSON_EXTRACT(REPLACE(player_attributes,'NaN','null'),'$.defensive_work_rate') AS defensive_work_rate,\n",
    "                JSON_EXTRACT(REPLACE(player_attributes,'NaN','null'),'$.crossing') AS crossing,\n",
    "                JSON_EXTRACT(REPLACE(player_attributes,'NaN','null'),'$.finishing') AS finishing,\n",
    "                JSON_EXTRACT(REPLACE(player_attributes,'NaN','null'),'$.heading_accuracy') AS heading_accuracy,\n",
    "                JSON_EXTRACT(REPLACE(player_attributes,'NaN','null'),'$.short_passing') AS short_passing,\n",
    "                JSON_EXTRACT(REPLACE(player_attributes,'NaN','null'),'$.volleys') AS volleys,\n",
    "                JSON_EXTRACT(REPLACE(player_attributes,'NaN','null'),'$.dribbling') AS dribbling,\n",
    "                JSON_EXTRACT(REPLACE(player_attributes,'NaN','null'),'$.curve') AS curve,\n",
    "                JSON_EXTRACT(REPLACE(player_attributes,'NaN','null'),'$.free_kick_accuracy') AS free_kick_accuracy,\n",
    "                JSON_EXTRACT(REPLACE(player_attributes,'NaN','null'),'$.long_passing') AS long_passing,\n",
    "                JSON_EXTRACT(REPLACE(player_attributes,'NaN','null'),'$.ball_control') AS ball_control,\n",
    "                JSON_EXTRACT(REPLACE(player_attributes,'NaN','null'),'$.acceleration') AS acceleration,\n",
    "                JSON_EXTRACT(REPLACE(player_attributes,'NaN','null'),'$.sprint_speed') AS sprint_speed,\n",
    "                JSON_EXTRACT(REPLACE(player_attributes,'NaN','null'),'$.agility') AS agility,\n",
    "                JSON_EXTRACT(REPLACE(player_attributes,'NaN','null'),'$.reactions') AS reactions,\n",
    "                JSON_EXTRACT(REPLACE(player_attributes,'NaN','null'),'$.balance') AS balance,\n",
    "                JSON_EXTRACT(REPLACE(player_attributes,'NaN','null'),'$.shot_power') AS shot_power,\n",
    "                JSON_EXTRACT(REPLACE(player_attributes,'NaN','null'),'$.jumping') AS jumping,\n",
    "                JSON_EXTRACT(REPLACE(player_attributes,'NaN','null'),'$.stamina') AS stamina,\n",
    "                JSON_EXTRACT(REPLACE(player_attributes,'NaN','null'),'$.strength') AS strength,\n",
    "                JSON_EXTRACT(REPLACE(player_attributes,'NaN','null'),'$.long_shots') AS long_shots,\n",
    "                JSON_EXTRACT(REPLACE(player_attributes,'NaN','null'),'$.aggression') AS aggression,\n",
    "                JSON_EXTRACT(REPLACE(player_attributes,'NaN','null'),'$.interceptions') AS interceptions,\n",
    "                JSON_EXTRACT(REPLACE(player_attributes,'NaN','null'),'$.positioning') AS positioning,\n",
    "                JSON_EXTRACT(REPLACE(player_attributes,'NaN','null'),'$.vision') AS vision,\n",
    "                JSON_EXTRACT(REPLACE(player_attributes,'NaN','null'),'$.penalties') AS penalties,\n",
    "                JSON_EXTRACT(REPLACE(player_attributes,'NaN','null'),'$.marking') AS marking,\n",
    "                JSON_EXTRACT(REPLACE(player_attributes,'NaN','null'),'$.standing_tackle') AS standing_tackle,\n",
    "                JSON_EXTRACT(REPLACE(player_attributes,'NaN','null'),'$.sliding_tackle') AS sliding_tackle,\n",
    "                JSON_EXTRACT(REPLACE(player_attributes,'NaN','null'),'$.gk_diving') AS gk_diving,\n",
    "                JSON_EXTRACT(REPLACE(player_attributes,'NaN','null'),'$.gk_handling') AS gk_handling,\n",
    "                JSON_EXTRACT(REPLACE(player_attributes,'NaN','null'),'$.gk_kicking') AS gk_kicking,\n",
    "                JSON_EXTRACT(REPLACE(player_attributes,'NaN','null'),'$.gk_positioning') AS gk_positioning,\n",
    "                JSON_EXTRACT(REPLACE(player_attributes,'NaN','null'),'$.gk_reflexes') AS gk_reflexes\n",
    "            FROM \n",
    "                player_attributes\n",
    "        )\n",
    "        \n",
    "        SELECT\n",
    "            player.player_fifa_api_id,\n",
    "            attributes.attribute_id,\n",
    "            attributes.date,\n",
    "            CAST(attributes.overall_rating AS INTEGER) AS overall_rating,\n",
    "            CAST(attributes.potential AS INTEGER) AS potential,\n",
    "            attributes.preferred_foot,\n",
    "            attributes.right,\n",
    "            attributes.attacking_work_rate,\n",
    "            attributes.defensive_work_rate,\n",
    "            CAST(attributes.crossing AS INTEGER) AS crossing,\n",
    "            CAST(attributes.finishing AS INTEGER) AS finishing,\n",
    "            CAST(attributes.heading_accuracy AS INTEGER) AS heading_accuracy,\n",
    "            CAST(attributes.short_passing AS INTEGER) AS short_passing,\n",
    "            CAST(attributes.volleys AS INTEGER) AS volleys,\n",
    "            CAST(attributes.dribbling AS INTEGER) AS dribbling,\n",
    "            CAST(attributes.curve AS INTEGER) AS curve,\n",
    "            CAST(attributes.free_kick_accuracy AS INTEGER) AS free_kick_accuracy,\n",
    "            CAST(attributes.long_passing AS INTEGER) AS long_passing,\n",
    "            CAST(attributes.ball_control AS INTEGER) AS ball_control,\n",
    "            CAST(attributes.acceleration AS INTEGER) AS acceleration,\n",
    "            CAST(attributes.sprint_speed AS INTEGER) AS sprint_speed,\n",
    "            CAST(attributes.agility AS INTEGER) AS agility,\n",
    "            CAST(attributes.reactions AS INTEGER) AS reactions,\n",
    "            CAST(attributes.balance AS INTEGER) AS balance,\n",
    "            CAST(attributes.shot_power AS INTEGER) AS shot_power,\n",
    "            CAST(attributes.jumping AS INTEGER) AS jumping,\n",
    "            CAST(attributes.stamina AS INTEGER) AS stamina,\n",
    "            CAST(attributes.strength AS INTEGER) AS strength,\n",
    "            CAST(attributes.long_shots AS INTEGER) AS long_shots,\n",
    "            CAST(attributes.aggression AS INTEGER) AS aggression,\n",
    "            CAST(attributes.interceptions AS INTEGER) AS interceptions,\n",
    "            CAST(attributes.positioning AS INTEGER) AS positioning,\n",
    "            CAST(attributes.vision AS INTEGER) AS vision,\n",
    "            CAST(attributes.penalties AS INTEGER) AS penalties,\n",
    "            CAST(attributes.marking AS INTEGER) AS marking,\n",
    "            CAST(attributes.standing_tackle AS INTEGER) AS standing_tackle,\n",
    "            CAST(attributes.sliding_tackle AS INTEGER) AS sliding_tackle,\n",
    "            CAST(attributes.gk_diving AS INTEGER) AS gk_diving,\n",
    "            CAST(attributes.gk_handling AS INTEGER) AS gk_handling,\n",
    "            CAST(attributes.gk_kicking AS INTEGER) AS gk_kicking,\n",
    "            CAST(attributes.gk_positioning AS INTEGER) AS gk_positioning,\n",
    "            CAST(attributes.gk_reflexes AS INTEGER) AS gk_reflexes\n",
    "        FROM\n",
    "            player\n",
    "        INNER JOIN\n",
    "            player_attributes_extracted AS attributes\n",
    "        ON player.player_fifa_api_id = attributes.player_fifa_api_id\n",
    "        ''')"
   ]
  },
  {
   "cell_type": "markdown",
   "id": "c589b93b-640a-4556-a9f2-85c2f2911c49",
   "metadata": {},
   "source": [
    "Por que o `INNER JOIN` ? Do ponto de vista de negócio me parece fazer mais sentido considerar apenas dados de players que consigamos identificar. Ter atributos de players os quais não temos em nossa base pode acabar sujando análises."
   ]
  },
  {
   "cell_type": "code",
   "execution_count": 12,
   "id": "f5ef1a9e-c2fa-4561-ba9b-eee068787a8e",
   "metadata": {},
   "outputs": [
    {
     "name": "stdout",
     "output_type": "stream",
     "text": [
      "(11062,) (11060,)\n"
     ]
    }
   ],
   "source": [
    "#fazendo check de quantos dados perdemos\n",
    "original_count = c.execute('''\n",
    "                        SELECT\n",
    "                            COUNT(DISTINCT CAST(JSON_EXTRACT(REPLACE(player_attributes,'NaN','null'),'$.player_fifa_api_id') AS INTEGER))\n",
    "                        FROM\n",
    "                            player_attributes\n",
    "\n",
    "                        ''').fetchone()\n",
    "\n",
    "modified_count = c.execute('''\n",
    "                        SELECT\n",
    "                            COUNT(DISTINCT player_fifa_api_id)\n",
    "                        FROM\n",
    "                            player_attributes_modified\n",
    "\n",
    "                        ''').fetchone()\n",
    "print(original_count,modified_count)"
   ]
  },
  {
   "cell_type": "markdown",
   "id": "0cad2795-0c1b-4737-94dc-4fb7dc66e205",
   "metadata": {},
   "source": [
    "Levando em conta que a base de attributes é histórica e possui a evolução dos players, são pouquíssimos dados perdidos na granularidade de player (2 perdas, sendo mais exato)"
   ]
  },
  {
   "cell_type": "code",
   "execution_count": 6,
   "id": "99e71179-ed55-4f7f-b141-d00e76c847c3",
   "metadata": {},
   "outputs": [],
   "source": [
    "#commitando a criação da base\n",
    "conn.commit()"
   ]
  },
  {
   "cell_type": "markdown",
   "id": "416b2857-aaa6-4dba-ac01-4fe41c95da8f",
   "metadata": {
    "tags": []
   },
   "source": [
    "##### Team Attributes Modified"
   ]
  },
  {
   "cell_type": "code",
   "execution_count": 13,
   "id": "57ae1261-8a9c-44f0-9d27-53ae71e43177",
   "metadata": {},
   "outputs": [
    {
     "data": {
      "text/plain": [
       "(0,\n",
       " '{\"id\": \"1\", \"team_fifa_api_id\": \"434\", \"team_api_id\": \"9930\", \"date\": \"2010-02-22 00:00:00\", \"buildUpPlaySpeed\": \"60\", \"buildUpPlaySpeedClass\": \"Balanced\", \"buildUpPlayDribbling\": NaN, \"buildUpPlayDribblingClass\": \"Little\", \"buildUpPlayPassing\": \"50\", \"buildUpPlayPassingClass\": \"Mixed\", \"buildUpPlayPositioningClass\": \"Organised\", \"chanceCreationPassing\": \"60\", \"chanceCreationPassingClass\": \"Normal\", \"chanceCreationCrossing\": \"65\", \"chanceCreationCrossingClass\": \"Normal\", \"chanceCreationShooting\": \"55\", \"chanceCreationShootingClass\": \"Normal\", \"chanceCreationPositioningClass\": \"Organised\", \"defencePressure\": \"50\", \"defencePressureClass\": \"Medium\", \"defenceAggression\": \"55\", \"defenceAggressionClass\": \"Press\", \"defenceTeamWidth\": \"45\", \"defenceTeamWidthClass\": \"Normal\", \"defenceDefenderLineClass\": \"Cover\"}')"
      ]
     },
     "execution_count": 13,
     "metadata": {},
     "output_type": "execute_result"
    }
   ],
   "source": [
    "#vendo um exemplo de linha\n",
    "c.execute('''\n",
    "        SELECT\n",
    "            *\n",
    "        FROM\n",
    "            team_attributes\n",
    "\n",
    "        ''').fetchone()"
   ]
  },
  {
   "cell_type": "code",
   "execution_count": 12,
   "id": "2b13265c-c487-48f1-bb6d-5ebc6c08ca3e",
   "metadata": {},
   "outputs": [
    {
     "ename": "OperationalError",
     "evalue": "malformed JSON",
     "output_type": "error",
     "traceback": [
      "\u001b[1;31m---------------------------------------------------------------------------\u001b[0m",
      "\u001b[1;31mOperationalError\u001b[0m                          Traceback (most recent call last)",
      "Input \u001b[1;32mIn [12]\u001b[0m, in \u001b[0;36m<cell line: 2>\u001b[1;34m()\u001b[0m\n\u001b[0;32m      1\u001b[0m \u001b[38;5;66;03m#realiando teste de extração de algumas colunas do JSON de attributes\u001b[39;00m\n\u001b[1;32m----> 2\u001b[0m \u001b[43mc\u001b[49m\u001b[38;5;241;43m.\u001b[39;49m\u001b[43mexecute\u001b[49m\u001b[43m(\u001b[49m\u001b[38;5;124;43m'''\u001b[39;49m\n\u001b[0;32m      3\u001b[0m \u001b[38;5;124;43m    SELECT\u001b[39;49m\n\u001b[0;32m      4\u001b[0m \u001b[38;5;124;43m        id,\u001b[39;49m\n\u001b[0;32m      5\u001b[0m \u001b[38;5;124;43m        team_attributes,\u001b[39;49m\n\u001b[0;32m      6\u001b[0m \u001b[38;5;124;43m        JSON_EXTRACT(team_attributes,\u001b[39;49m\u001b[38;5;124;43m'\u001b[39;49m\u001b[38;5;124;43m$.id\u001b[39;49m\u001b[38;5;124;43m'\u001b[39;49m\u001b[38;5;124;43m) AS id,\u001b[39;49m\n\u001b[0;32m      7\u001b[0m \u001b[38;5;124;43m        JSON_EXTRACT(team_attributes,\u001b[39;49m\u001b[38;5;124;43m'\u001b[39;49m\u001b[38;5;124;43m$.team_fifa_api_id\u001b[39;49m\u001b[38;5;124;43m'\u001b[39;49m\u001b[38;5;124;43m) AS player_fifa_api_id,\u001b[39;49m\n\u001b[0;32m      8\u001b[0m \u001b[38;5;124;43m        JSON_EXTRACT(team_attributes,\u001b[39;49m\u001b[38;5;124;43m'\u001b[39;49m\u001b[38;5;124;43m$.team_api_id\u001b[39;49m\u001b[38;5;124;43m'\u001b[39;49m\u001b[38;5;124;43m) AS player_api_id,\u001b[39;49m\n\u001b[0;32m      9\u001b[0m \u001b[38;5;124;43m        JSON_EXTRACT(team_attributes,\u001b[39;49m\u001b[38;5;124;43m'\u001b[39;49m\u001b[38;5;124;43m$.date\u001b[39;49m\u001b[38;5;124;43m'\u001b[39;49m\u001b[38;5;124;43m) AS date\u001b[39;49m\n\u001b[0;32m     10\u001b[0m \u001b[38;5;124;43m    FROM\u001b[39;49m\n\u001b[0;32m     11\u001b[0m \u001b[38;5;124;43m        team_attributes\u001b[39;49m\n\u001b[0;32m     12\u001b[0m \u001b[38;5;124;43m'''\u001b[39;49m\u001b[43m)\u001b[49m\u001b[38;5;241m.\u001b[39mfetchall()\n",
      "\u001b[1;31mOperationalError\u001b[0m: malformed JSON"
     ]
    }
   ],
   "source": [
    "#realiando teste de extração de algumas colunas do JSON de attributes\n",
    "c.execute('''\n",
    "    SELECT\n",
    "        id,\n",
    "        team_attributes,\n",
    "        JSON_EXTRACT(team_attributes,'$.id') AS id,\n",
    "        JSON_EXTRACT(team_attributes,'$.team_fifa_api_id') AS player_fifa_api_id,\n",
    "        JSON_EXTRACT(team_attributes,'$.team_api_id') AS player_api_id,\n",
    "        JSON_EXTRACT(team_attributes,'$.date') AS date\n",
    "    FROM\n",
    "        team_attributes\n",
    "''').fetchall()"
   ]
  },
  {
   "cell_type": "markdown",
   "id": "e85710e1-856c-479f-841f-18dfbd9526dc",
   "metadata": {},
   "source": [
    "Temos casos de JSON com problema de incosistência"
   ]
  },
  {
   "cell_type": "code",
   "execution_count": 13,
   "id": "7eb8f642-078d-45de-bf3b-d01cc589e10b",
   "metadata": {},
   "outputs": [
    {
     "data": {
      "text/plain": [
       "(971,)"
      ]
     },
     "execution_count": 13,
     "metadata": {},
     "output_type": "execute_result"
    }
   ],
   "source": [
    "# validando volumetria de json com problemas\n",
    "c.execute('''\n",
    "    SELECT\n",
    "       COUNT(1)\n",
    "    FROM\n",
    "        team_attributes\n",
    "    WHERE\n",
    "        NOT(JSON_VALID(team_attributes))\n",
    "''').fetchone()"
   ]
  },
  {
   "cell_type": "code",
   "execution_count": 14,
   "id": "d043d642-42e1-4084-88f0-1b4e9d5aa5c0",
   "metadata": {},
   "outputs": [
    {
     "data": {
      "text/plain": [
       "(0,\n",
       " '{\"id\": \"1\", \"team_fifa_api_id\": \"434\", \"team_api_id\": \"9930\", \"date\": \"2010-02-22 00:00:00\", \"buildUpPlaySpeed\": \"60\", \"buildUpPlaySpeedClass\": \"Balanced\", \"buildUpPlayDribbling\": NaN, \"buildUpPlayDribblingClass\": \"Little\", \"buildUpPlayPassing\": \"50\", \"buildUpPlayPassingClass\": \"Mixed\", \"buildUpPlayPositioningClass\": \"Organised\", \"chanceCreationPassing\": \"60\", \"chanceCreationPassingClass\": \"Normal\", \"chanceCreationCrossing\": \"65\", \"chanceCreationCrossingClass\": \"Normal\", \"chanceCreationShooting\": \"55\", \"chanceCreationShootingClass\": \"Normal\", \"chanceCreationPositioningClass\": \"Organised\", \"defencePressure\": \"50\", \"defencePressureClass\": \"Medium\", \"defenceAggression\": \"55\", \"defenceAggressionClass\": \"Press\", \"defenceTeamWidth\": \"45\", \"defenceTeamWidthClass\": \"Normal\", \"defenceDefenderLineClass\": \"Cover\"}')"
      ]
     },
     "execution_count": 14,
     "metadata": {},
     "output_type": "execute_result"
    }
   ],
   "source": [
    "# checando 1 caso\n",
    "c.execute('''\n",
    "    SELECT\n",
    "       *\n",
    "    FROM\n",
    "        team_attributes\n",
    "    WHERE\n",
    "        NOT(JSON_VALID(team_attributes))\n",
    "''').fetchone()"
   ]
  },
  {
   "cell_type": "markdown",
   "id": "60907b88-5ae9-4ec2-8f3f-9550148a3546",
   "metadata": {},
   "source": [
    "Temos 1 dos atributos que está com NaN e o `JSON_EXTRACT` não aceita. Aparentemente é o mesmo problema da tabela de player. A solução será substituir o valor para `NULL`"
   ]
  },
  {
   "cell_type": "code",
   "execution_count": 15,
   "id": "ba7f80aa-4ffd-410f-a35e-f1cd579ff78d",
   "metadata": {},
   "outputs": [
    {
     "data": {
      "text/plain": [
       "(1, 971)"
      ]
     },
     "execution_count": 15,
     "metadata": {},
     "output_type": "execute_result"
    }
   ],
   "source": [
    "#testando se a solução do replace atende todos os casos ou se temos algum problema diferente\n",
    "c.execute('''\n",
    "    SELECT\n",
    "        JSON_VALID(REPLACE(team_attributes,'NaN','null')) AS json_validation,\n",
    "        COUNT(1) AS qtd\n",
    "    FROM\n",
    "        team_attributes\n",
    "    WHERE\n",
    "        NOT(JSON_VALID(team_attributes))\n",
    "    GROUP BY\n",
    "        json_validation\n",
    "''').fetchone()"
   ]
  },
  {
   "cell_type": "markdown",
   "id": "97299868-acd9-43a6-85ed-68feb94ae2e7",
   "metadata": {},
   "source": [
    "Todos os casos estavam com o mesmo problema!"
   ]
  },
  {
   "cell_type": "code",
   "execution_count": 16,
   "id": "a738f538-91b8-4fd9-b65f-4dcffdca0b49",
   "metadata": {},
   "outputs": [
    {
     "data": {
      "text/plain": [
       "[(299, 299, 285)]"
      ]
     },
     "execution_count": 16,
     "metadata": {},
     "output_type": "execute_result"
    }
   ],
   "source": [
    "#validando possíveis chaves do team na tabela team\n",
    "c.execute('''\n",
    "        SELECT\n",
    "            COUNT(1) AS qtd,\n",
    "            COUNT(DISTINCT team_api_id) AS tids,\n",
    "            COUNT(DISTINCT team_fifa_api_id) AS tfids\n",
    "        FROM\n",
    "            team\n",
    "        ''').fetchall()"
   ]
  },
  {
   "cell_type": "markdown",
   "id": "993f13da-ef3d-4260-9d6e-74bc81978d7a",
   "metadata": {},
   "source": [
    "Diferentemente da base de `players`, aqui temos algumas duplicidades na chave `team_fifa_api_id`"
   ]
  },
  {
   "cell_type": "code",
   "execution_count": 20,
   "id": "057056d8-d8bc-4395-ab0f-c40c05b4c092",
   "metadata": {},
   "outputs": [
    {
     "data": {
      "text/plain": [
       "[(16, 9996, 111560, 'Royal Excel Mouscron', 'MOU'),\n",
       " (2510, 274581, 111560, 'Royal Excel Mouscron', 'MOP'),\n",
       " (31444, 8031, 111429, 'Polonia Bytom', 'POB'),\n",
       " (31445, 8020, 111429, 'Polonia Bytom', 'GOR'),\n",
       " (31451, 8244, 301, 'Widzew Łódź', 'LOD'),\n",
       " (32409, 8024, 301, 'Widzew Łódź', 'WID')]"
      ]
     },
     "execution_count": 20,
     "metadata": {},
     "output_type": "execute_result"
    }
   ],
   "source": [
    "#checando as duplicidades\n",
    "c.execute('''\n",
    "        SELECT\n",
    "            *\n",
    "        FROM\n",
    "            team\n",
    "        WHERE\n",
    "            team_fifa_api_id IN (\n",
    "                SELECT\n",
    "                    team_fifa_api_id\n",
    "                FROM\n",
    "                    team\n",
    "                GROUP BY\n",
    "                    team_fifa_api_id\n",
    "                HAVING COUNT(1) > 1\n",
    "            )\n",
    "        ''').fetchall()"
   ]
  },
  {
   "cell_type": "code",
   "execution_count": 21,
   "id": "d8eab1af-ab7c-479a-bf2a-bd1eaa627b4b",
   "metadata": {},
   "outputs": [
    {
     "data": {
      "text/plain": [
       "[(288, 288, 285)]"
      ]
     },
     "execution_count": 21,
     "metadata": {},
     "output_type": "execute_result"
    }
   ],
   "source": [
    "#testando as chaves do team na tabela de attributes\n",
    "c.execute('''\n",
    "        WITH team_attributes_key AS (\n",
    "            SELECT DISTINCT\n",
    "                JSON_EXTRACT(REPLACE(team_attributes,'NaN','null'),'$.team_api_id') AS team_api_id,\n",
    "                JSON_EXTRACT(REPLACE(team_attributes,'NaN','null'),'$.team_fifa_api_id') AS team_fifa_api_id\n",
    "            FROM \n",
    "                team_attributes\n",
    "        )\n",
    "        \n",
    "        SELECT\n",
    "            COUNT(1) AS qtd,\n",
    "            COUNT(DISTINCT team_api_id) AS tids,\n",
    "            COUNT(DISTINCT team_fifa_api_id) AS tfids\n",
    "        FROM \n",
    "            team_attributes_key\n",
    "        ''').fetchall()"
   ]
  },
  {
   "cell_type": "markdown",
   "id": "81517fa5-bca8-404e-87e8-46fb0122475f",
   "metadata": {},
   "source": [
    "Aparentemente a chave mais confiável é a `team_api_id`. Diferentemente da tabela de `player_attributes`, a base de `team_attributes` possui dados já consolidados na granularidade do time ao invés do histórico"
   ]
  },
  {
   "cell_type": "code",
   "execution_count": 24,
   "id": "d76bad1f-d0fe-4f36-a2a9-e76844ba235d",
   "metadata": {},
   "outputs": [
    {
     "data": {
      "text/plain": [
       "(0,\n",
       " '{\"id\": \"1\", \"team_fifa_api_id\": \"434\", \"team_api_id\": \"9930\", \"date\": \"2010-02-22 00:00:00\", \"buildUpPlaySpeed\": \"60\", \"buildUpPlaySpeedClass\": \"Balanced\", \"buildUpPlayDribbling\": NaN, \"buildUpPlayDribblingClass\": \"Little\", \"buildUpPlayPassing\": \"50\", \"buildUpPlayPassingClass\": \"Mixed\", \"buildUpPlayPositioningClass\": \"Organised\", \"chanceCreationPassing\": \"60\", \"chanceCreationPassingClass\": \"Normal\", \"chanceCreationCrossing\": \"65\", \"chanceCreationCrossingClass\": \"Normal\", \"chanceCreationShooting\": \"55\", \"chanceCreationShootingClass\": \"Normal\", \"chanceCreationPositioningClass\": \"Organised\", \"defencePressure\": \"50\", \"defencePressureClass\": \"Medium\", \"defenceAggression\": \"55\", \"defenceAggressionClass\": \"Press\", \"defenceTeamWidth\": \"45\", \"defenceTeamWidthClass\": \"Normal\", \"defenceDefenderLineClass\": \"Cover\"}')"
      ]
     },
     "execution_count": 24,
     "metadata": {},
     "output_type": "execute_result"
    }
   ],
   "source": [
    "# checando 1 caso\n",
    "c.execute('''\n",
    "    SELECT\n",
    "       *\n",
    "    FROM\n",
    "        team_attributes\n",
    "    WHERE\n",
    "        NOT(JSON_VALID(team_attributes))\n",
    "''').fetchone()"
   ]
  },
  {
   "cell_type": "code",
   "execution_count": 8,
   "id": "045fb869-1961-46dd-a5da-530cd173c45f",
   "metadata": {},
   "outputs": [
    {
     "data": {
      "text/plain": [
       "<sqlite3.Cursor at 0x1b35a9afdc0>"
      ]
     },
     "execution_count": 8,
     "metadata": {},
     "output_type": "execute_result"
    }
   ],
   "source": [
    "#criação da tabela, extraindo as informações do json da team_attribuites e cruzando com a team pelo team_api_id\n",
    "c.execute('''\n",
    "        CREATE TABLE IF NOT EXISTS team_attributes_modified AS\n",
    "        WITH team_attributes_extracted AS (\n",
    "            SELECT \n",
    "                CAST(JSON_EXTRACT(REPLACE(team_attributes,'NaN','null'),'$.id') AS INTEGER) AS attribute_id,\n",
    "                CAST(JSON_EXTRACT(REPLACE(team_attributes,'NaN','null'),'$.team_fifa_api_id') AS INTEGER) AS team_fifa_api_id,\n",
    "                CAST(JSON_EXTRACT(REPLACE(team_attributes,'NaN','null'),'$.team_api_id') AS INTEGER) AS team_api_id,\n",
    "                JSON_EXTRACT(REPLACE(team_attributes,'NaN','null'),'$.date') AS date,\n",
    "                JSON_EXTRACT(REPLACE(team_attributes,'NaN','null'),'$.buildUpPlaySpeed') AS buildUpPlaySpeed,\n",
    "                JSON_EXTRACT(REPLACE(team_attributes,'NaN','null'),'$.buildUpPlaySpeedClass') AS buildUpPlaySpeedClass,\n",
    "                JSON_EXTRACT(REPLACE(team_attributes,'NaN','null'),'$.buildUpPlayDribbling') AS buildUpPlayDribbling,\n",
    "                JSON_EXTRACT(REPLACE(team_attributes,'NaN','null'),'$.buildUpPlayDribblingClass') AS buildUpPlayDribblingClass,\n",
    "                JSON_EXTRACT(REPLACE(team_attributes,'NaN','null'),'$.buildUpPlayPassing') AS buildUpPlayPassing,\n",
    "                JSON_EXTRACT(REPLACE(team_attributes,'NaN','null'),'$.buildUpPlayPassingClass') AS buildUpPlayPassingClass,\n",
    "                JSON_EXTRACT(REPLACE(team_attributes,'NaN','null'),'$.buildUpPlayPositioningClass') AS buildUpPlayPositioningClass,\n",
    "                JSON_EXTRACT(REPLACE(team_attributes,'NaN','null'),'$.chanceCreationPassing') AS chanceCreationPassing,\n",
    "                JSON_EXTRACT(REPLACE(team_attributes,'NaN','null'),'$.chanceCreationPassingClass') AS chanceCreationPassingClass,\n",
    "                JSON_EXTRACT(REPLACE(team_attributes,'NaN','null'),'$.chanceCreationCrossing') AS chanceCreationCrossing,\n",
    "                JSON_EXTRACT(REPLACE(team_attributes,'NaN','null'),'$.chanceCreationCrossingClass') AS chanceCreationCrossingClass,\n",
    "                JSON_EXTRACT(REPLACE(team_attributes,'NaN','null'),'$.chanceCreationShooting') AS chanceCreationShooting,\n",
    "                JSON_EXTRACT(REPLACE(team_attributes,'NaN','null'),'$.chanceCreationShootingClass') AS chanceCreationShootingClass,\n",
    "                JSON_EXTRACT(REPLACE(team_attributes,'NaN','null'),'$.chanceCreationPositioningClass') AS chanceCreationPositioningClass,\n",
    "                JSON_EXTRACT(REPLACE(team_attributes,'NaN','null'),'$.defencePressure') AS defencePressure,\n",
    "                JSON_EXTRACT(REPLACE(team_attributes,'NaN','null'),'$.defencePressureClass') AS defencePressureClass,\n",
    "                JSON_EXTRACT(REPLACE(team_attributes,'NaN','null'),'$.defenceAggression') AS defenceAggression,\n",
    "                JSON_EXTRACT(REPLACE(team_attributes,'NaN','null'),'$.defenceAggressionClass') AS defenceAggressionClass,\n",
    "                JSON_EXTRACT(REPLACE(team_attributes,'NaN','null'),'$.defenceTeamWidth') AS defenceTeamWidth,\n",
    "                JSON_EXTRACT(REPLACE(team_attributes,'NaN','null'),'$.defenceTeamWidthClass') AS defenceTeamWidthClass,\n",
    "                JSON_EXTRACT(REPLACE(team_attributes,'NaN','null'),'$.defenceDefenderLineClass') AS defenceDefenderLineClass\n",
    "            FROM \n",
    "                team_attributes\n",
    "        )\n",
    "        \n",
    "        SELECT\n",
    "            team.team_api_id,\n",
    "            attributes.attribute_id,\n",
    "            attributes.date,\n",
    "            CAST(attributes.buildUpPlaySpeed AS INTEGER) AS buildUpPlaySpeed,\n",
    "            attributes.buildUpPlaySpeedClass,\n",
    "            CAST(attributes.buildUpPlayDribbling AS INTEGER) AS buildUpPlayDribbling,\n",
    "            attributes.buildUpPlayDribblingClass,\n",
    "            CAST(attributes.buildUpPlayPassing AS INTEGER) AS buildUpPlayPassing,\n",
    "            attributes.buildUpPlayPassingClass,\n",
    "            attributes.buildUpPlayPositioningClass,\n",
    "            CAST(attributes.chanceCreationPassing AS INTEGER) AS chanceCreationPassing,\n",
    "            attributes.chanceCreationPassingClass,\n",
    "            CAST(attributes.chanceCreationCrossing AS INTEGER) AS chanceCreationCrossing,\n",
    "            attributes.chanceCreationCrossingClass,\n",
    "            CAST(attributes.chanceCreationShooting AS INTEGER) AS chanceCreationShooting,\n",
    "            attributes.chanceCreationShootingClass,\n",
    "            attributes.chanceCreationPositioningClass,\n",
    "            CAST(attributes.defencePressure AS INTEGER) AS defencePressure,\n",
    "            attributes.defencePressureClass,\n",
    "            CAST(attributes.defenceAggression AS INTEGER) AS defenceAggression,\n",
    "            attributes.defenceAggressionClass,\n",
    "            CAST(attributes.defenceTeamWidth AS INTEGER) AS defenceTeamWidth,\n",
    "            attributes.defenceTeamWidthClass,\n",
    "            attributes.defenceDefenderLineClass\n",
    "        FROM\n",
    "            team\n",
    "        INNER JOIN\n",
    "            team_attributes_extracted AS attributes\n",
    "        ON team.team_api_id = attributes.team_api_id\n",
    "        ''')"
   ]
  },
  {
   "cell_type": "code",
   "execution_count": 47,
   "id": "c1cb58a5-f0a9-4ee8-9aaf-3847e3f87a84",
   "metadata": {},
   "outputs": [
    {
     "name": "stdout",
     "output_type": "stream",
     "text": [
      "(288,) (288,)\n"
     ]
    }
   ],
   "source": [
    "#fazendo check de quantos dados perdemos por conta do inner\n",
    "original_count = c.execute('''\n",
    "                        SELECT\n",
    "                            COUNT(DISTINCT CAST(JSON_EXTRACT(REPLACE(team_attributes,'NaN','null'),'$.team_api_id') AS INTEGER))\n",
    "                        FROM\n",
    "                            team_attributes\n",
    "\n",
    "                        ''').fetchone()\n",
    "\n",
    "modified_count = c.execute('''\n",
    "                        SELECT\n",
    "                            COUNT(DISTINCT team_api_id)\n",
    "                        FROM\n",
    "                            team_attributes_modified\n",
    "\n",
    "                        ''').fetchone()\n",
    "print(original_count,modified_count)"
   ]
  },
  {
   "cell_type": "markdown",
   "id": "4ade84da-01e9-4a44-ac59-8600ea139579",
   "metadata": {},
   "source": [
    "Todos os times possuem dados de atributos!"
   ]
  },
  {
   "cell_type": "code",
   "execution_count": 9,
   "id": "bd487465-5bec-4a4b-9cab-1ed311a63d74",
   "metadata": {},
   "outputs": [],
   "source": [
    "#commitando a criação da base\n",
    "conn.commit()"
   ]
  },
  {
   "cell_type": "markdown",
   "id": "73caee0d-d756-462a-a1e6-69304aaaa672",
   "metadata": {},
   "source": [
    "##### match Modified"
   ]
  },
  {
   "cell_type": "code",
   "execution_count": 23,
   "id": "96d44d97-0bfa-4f38-8b39-7f29dce53231",
   "metadata": {},
   "outputs": [
    {
     "data": {
      "text/plain": [
       "<sqlite3.Cursor at 0x1c0ba733b20>"
      ]
     },
     "execution_count": 23,
     "metadata": {},
     "output_type": "execute_result"
    }
   ],
   "source": [
    "#criação da tabela match_modified, consolidando as chaves em um único campo json\n",
    "c.execute('''\n",
    "        CREATE TABLE IF NOT EXISTS match_modified AS\n",
    "        SELECT\n",
    "            JSON_OBJECT(\n",
    "                'id',id,\n",
    "                'match_api_id',match_api_id,\n",
    "                'home_team_api_id',home_team_api_id,\n",
    "                'away_team_api_id','away_team_api_id'\n",
    "            ) AS match_keys\n",
    "        FROM\n",
    "            match\n",
    "        ''')"
   ]
  },
  {
   "cell_type": "code",
   "execution_count": 28,
   "id": "dac34a3d-9e38-4ab6-ab1b-c5e4cc575a29",
   "metadata": {},
   "outputs": [
    {
     "data": {
      "text/plain": [
       "[('{\"id\":1,\"match_api_id\":492473,\"home_team_api_id\":9987,\"away_team_api_id\":\"away_team_api_id\"}',),\n",
       " ('{\"id\":2,\"match_api_id\":492474,\"home_team_api_id\":10000,\"away_team_api_id\":\"away_team_api_id\"}',),\n",
       " ('{\"id\":3,\"match_api_id\":492475,\"home_team_api_id\":9984,\"away_team_api_id\":\"away_team_api_id\"}',),\n",
       " ('{\"id\":4,\"match_api_id\":492476,\"home_team_api_id\":9991,\"away_team_api_id\":\"away_team_api_id\"}',),\n",
       " ('{\"id\":5,\"match_api_id\":492477,\"home_team_api_id\":7947,\"away_team_api_id\":\"away_team_api_id\"}',),\n",
       " ('{\"id\":6,\"match_api_id\":492478,\"home_team_api_id\":8203,\"away_team_api_id\":\"away_team_api_id\"}',),\n",
       " ('{\"id\":7,\"match_api_id\":492479,\"home_team_api_id\":9999,\"away_team_api_id\":\"away_team_api_id\"}',),\n",
       " ('{\"id\":8,\"match_api_id\":492480,\"home_team_api_id\":4049,\"away_team_api_id\":\"away_team_api_id\"}',),\n",
       " ('{\"id\":9,\"match_api_id\":492481,\"home_team_api_id\":10001,\"away_team_api_id\":\"away_team_api_id\"}',),\n",
       " ('{\"id\":10,\"match_api_id\":492564,\"home_team_api_id\":8342,\"away_team_api_id\":\"away_team_api_id\"}',)]"
      ]
     },
     "execution_count": 28,
     "metadata": {},
     "output_type": "execute_result"
    }
   ],
   "source": [
    "#checando algumas linhas\n",
    "c.execute('''\n",
    "        SELECT\n",
    "            *\n",
    "        FROM\n",
    "            match_modified\n",
    "        LIMIT 10\n",
    "        ''').fetchall()"
   ]
  },
  {
   "cell_type": "code",
   "execution_count": 29,
   "id": "bffb8e4f-33ca-4ec8-a3fa-4c81b095776b",
   "metadata": {},
   "outputs": [],
   "source": [
    "#commitando criação da tabela\n",
    "conn.commit()"
   ]
  },
  {
   "cell_type": "code",
   "execution_count": 14,
   "id": "80a77013-1d1a-4226-8971-99bcc86dfb00",
   "metadata": {},
   "outputs": [],
   "source": [
    "#encerrando conexão\n",
    "conn.close()"
   ]
  }
 ],
 "metadata": {
  "kernelspec": {
   "display_name": "Python 3 (ipykernel)",
   "language": "python",
   "name": "python3"
  },
  "language_info": {
   "codemirror_mode": {
    "name": "ipython",
    "version": 3
   },
   "file_extension": ".py",
   "mimetype": "text/x-python",
   "name": "python",
   "nbconvert_exporter": "python",
   "pygments_lexer": "ipython3",
   "version": "3.9.12"
  }
 },
 "nbformat": 4,
 "nbformat_minor": 5
}
