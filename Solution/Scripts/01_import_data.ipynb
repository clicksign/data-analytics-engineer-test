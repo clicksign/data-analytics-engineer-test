{
 "cells": [
  {
   "cell_type": "markdown",
   "id": "e8f27006-0cb8-43be-ad5f-b6eba52b4156",
   "metadata": {},
   "source": [
    "## Import dos arquivos\n",
    "Este script tem como objetivo criar o banco de dados `test_analytics_engineer` em um banco `SQLite` e importar os dados necessários para realização dos tratamentos e análises propostos no teste.\n",
    "\n",
    "Os dados à serem carregados são:\n",
    "- Country\n",
    "- League\n",
    "- Match\n",
    "- Player\n",
    "- Player_Attributes\n",
    "- Team\n",
    "- Team_Attributes\n",
    "\n",
    "Sobre os dados:\n",
    "- O banco de dados de futebol definitivo para análise de dados e aprendizado conta com +25.000 partidas,+10.000 jogadores, 11 países europeus com seu campeonato líder Temporadas 2008 a 2016;\n",
    "- Atributos de jogadores e equipes provenientes da série de videogames FIFA da EA Sports, incluindo as atualizações semanais;\n",
    "- Alinhamento da equipe com a formação do esquadrão (coordenadas X, Y).Probabilidades de apostas de até 10 provedores e ;\n",
    "- Eventos detalhados da partida (tipos de gol, posse de bola, escanteio, cruzamento, faltas, cartões etc…) para +10.000 partidasO banco de dados de futebol definitivo para análise de dados e aprendizado conta com +25.000 partidas,+10.000 jogadores, 11 países europeus com seu campeonato líder Temporadas 2008 a 2016;"
   ]
  },
  {
   "cell_type": "markdown",
   "id": "20fcfe1d-1098-4e37-b489-81d6cb4cd6ac",
   "metadata": {},
   "source": [
    "### Import das libs"
   ]
  },
  {
   "cell_type": "code",
   "execution_count": 2,
   "id": "215285c2-59e8-4f79-bf23-675435eb8e26",
   "metadata": {},
   "outputs": [],
   "source": [
    "#Importando das libs que serão utilizadas no processo\n",
    "import sqlite3\n",
    "import pandas as pd"
   ]
  },
  {
   "cell_type": "markdown",
   "id": "80f1bb2c-b90f-407b-b4d6-493c1e1ea0f2",
   "metadata": {},
   "source": [
    "### Criando conexão e iniciando cursor"
   ]
  },
  {
   "cell_type": "code",
   "execution_count": 3,
   "id": "e6833c82-54ac-46cc-9623-b6854f9d313c",
   "metadata": {},
   "outputs": [],
   "source": [
    "#Criando do banco de dados test_analytics_engineer\n",
    "conn = sqlite3.connect('test_analytics_engineer.db')"
   ]
  },
  {
   "cell_type": "code",
   "execution_count": 4,
   "id": "cd9206fe-777b-408d-8971-5bd999b98f2b",
   "metadata": {},
   "outputs": [],
   "source": [
    "#Instanciando o cursor\n",
    "c = conn.cursor()"
   ]
  },
  {
   "cell_type": "markdown",
   "id": "5510e465-eb0a-4c00-bccc-7a8ee2f7b4f3",
   "metadata": {},
   "source": [
    "### Criação das tabelas no SqLite"
   ]
  },
  {
   "cell_type": "code",
   "execution_count": 229,
   "id": "4fb47c6e-5152-4278-877c-929434a28315",
   "metadata": {},
   "outputs": [],
   "source": [
    "#Criando as tabelas no Sqlite\n",
    "\n",
    "#country\n",
    "c.execute('''\n",
    "    CREATE TABLE IF NOT EXISTS country (\n",
    "        id INT,\n",
    "        name TEXT\n",
    "    )\n",
    "''')\n",
    "\n",
    "#league\n",
    "c.execute('''\n",
    "    CREATE TABLE IF NOT EXISTS league (\n",
    "        id INT,\n",
    "        country_id TEXT,\n",
    "        name TEXT\n",
    "    )\n",
    "''')\n",
    "\n",
    "#match\n",
    "c.execute('''\n",
    "    CREATE TABLE IF NOT EXISTS match (\n",
    "        id INT,\n",
    "        country_id INT,\n",
    "        league_id INT,\n",
    "        season TEXT,\n",
    "        stage INT,\n",
    "        date TEXT,\n",
    "        match_api_id INT,\n",
    "        home_team_api_id INT,\n",
    "        away_team_api_id INT,\n",
    "        home_team_goal INT,\n",
    "        away_team_goal INT,\n",
    "        home_player_X1 INT,\n",
    "        home_player_X2 INT,\n",
    "        home_player_X3 INT,\n",
    "        home_player_X4 INT,\n",
    "        home_player_X5 INT,\n",
    "        home_player_X6 INT,\n",
    "        home_player_X7 INT,\n",
    "        home_player_X8 INT,\n",
    "        home_player_X9 INT,\n",
    "        home_player_X10 INT,\n",
    "        home_player_X11 INT,\n",
    "        away_player_X1 INT,\n",
    "        away_player_X2 INT,\n",
    "        away_player_X3 INT,\n",
    "        away_player_X4 INT,\n",
    "        away_player_X5 INT,\n",
    "        away_player_X6 INT,\n",
    "        away_player_X7 INT,\n",
    "        away_player_X8 INT,\n",
    "        away_player_X9 INT,\n",
    "        away_player_X10 INT,\n",
    "        away_player_X11 INT,\n",
    "        home_player_Y1 INT,\n",
    "        home_player_Y2 INT,\n",
    "        home_player_Y3 INT,\n",
    "        home_player_Y4 INT,\n",
    "        home_player_Y5 INT,\n",
    "        home_player_Y6 INT,\n",
    "        home_player_Y7 INT,\n",
    "        home_player_Y8 INT,\n",
    "        home_player_Y9 INT,\n",
    "        home_player_Y10 INT,\n",
    "        home_player_Y11 INT,\n",
    "        away_player_Y1 INT,\n",
    "        away_player_Y2 INT,\n",
    "        away_player_Y3 INT,\n",
    "        away_player_Y4 INT,\n",
    "        away_player_Y5 INT,\n",
    "        away_player_Y6 INT,\n",
    "        away_player_Y7 INT,\n",
    "        away_player_Y8 INT,\n",
    "        away_player_Y9 INT,\n",
    "        away_player_Y10 INT,\n",
    "        away_player_Y11 INT,\n",
    "        home_player_1 INT,\n",
    "        home_player_2 INT,\n",
    "        home_player_3 INT,\n",
    "        home_player_4 INT,\n",
    "        home_player_5 INT,\n",
    "        home_player_6 INT,\n",
    "        home_player_7 INT,\n",
    "        home_player_8 INT,\n",
    "        home_player_9 INT,\n",
    "        home_player_10 INT,\n",
    "        home_player_11 INT,\n",
    "        away_player_1 INT,\n",
    "        away_player_2 INT,\n",
    "        away_player_3 INT,\n",
    "        away_player_4 INT,\n",
    "        away_player_5 INT,\n",
    "        away_player_6 INT,\n",
    "        away_player_7 INT,\n",
    "        away_player_8 INT,\n",
    "        away_player_9 INT,\n",
    "        away_player_10 INT,\n",
    "        away_player_11 INT,\n",
    "        goal TEXT,\n",
    "        shoton TEXT,\n",
    "        shotoff TEXT,\n",
    "        foulcommit TEXT,\n",
    "        card TEXT,\n",
    "        cross TEXT,\n",
    "        corner TEXT,\n",
    "        possession TEXT,\n",
    "        B365H REAL,\n",
    "        B365D REAL,\n",
    "        B365A REAL,\n",
    "        BWH REAL,\n",
    "        BWD REAL,\n",
    "        BWA REAL,\n",
    "        IWH REAL,\n",
    "        IWD REAL,\n",
    "        IWA REAL,\n",
    "        LBH REAL,\n",
    "        LBD REAL,\n",
    "        LBA REAL,\n",
    "        PSH REAL,\n",
    "        PSD REAL,\n",
    "        PSA REAL,\n",
    "        WHH REAL,\n",
    "        WHD REAL,\n",
    "        WHA REAL,\n",
    "        SJH REAL,\n",
    "        SJD REAL,\n",
    "        SJA REAL,\n",
    "        VCH REAL,\n",
    "        VCD REAL,\n",
    "        VCA REAL,\n",
    "        GBH REAL,\n",
    "        GBD REAL,\n",
    "        GBA REAL,\n",
    "        BSH REAL,\n",
    "        BSD REAL,\n",
    "        BSA REAL\n",
    "    )\n",
    "''')\n",
    "\n",
    "#player\n",
    "c.execute('''\n",
    "    CREATE TABLE IF NOT EXISTS player (\n",
    "        id INT,\n",
    "        player_api_id ID,\n",
    "        player_name TEXT,\n",
    "        player_fifa_api_id ID,\n",
    "        birthday TEXT,\n",
    "        height REAL,\n",
    "        weight INT\n",
    "    )\n",
    "''')\n",
    "\n",
    "#player_attributes\n",
    "c.execute('''\n",
    "    CREATE TABLE IF NOT EXISTS player_attributes (\n",
    "        id INT,\n",
    "        player_attributes TEXT\n",
    "    )\n",
    "''')\n",
    "\n",
    "#team\n",
    "c.execute('''\n",
    "    CREATE TABLE IF NOT EXISTS team (\n",
    "        id INT,\n",
    "        team_api_id INT,\n",
    "        team_fifa_api_id INT,\n",
    "        team_long_name TEXT,\n",
    "        team_short_name TEXT\n",
    "    )\n",
    "''')\n",
    "\n",
    "#team_attributes\n",
    "c.execute('''\n",
    "    CREATE TABLE IF NOT EXISTS team_attributes (\n",
    "        id INT,\n",
    "        team_attributes TEXT\n",
    "    )\n",
    "''')\n",
    "\n",
    "#commita alteração no banco\n",
    "conn.commit()"
   ]
  },
  {
   "cell_type": "code",
   "execution_count": 230,
   "id": "5fb89f48-0b69-406a-8873-b3ae51354ea9",
   "metadata": {},
   "outputs": [
    {
     "data": {
      "text/plain": [
       "[('country',),\n",
       " ('league',),\n",
       " ('match',),\n",
       " ('player',),\n",
       " ('player_attributes',),\n",
       " ('team',),\n",
       " ('team_attributes',)]"
      ]
     },
     "execution_count": 230,
     "metadata": {},
     "output_type": "execute_result"
    }
   ],
   "source": [
    "#checando se as tabelas foram criadas com sucesso\n",
    "c.execute('''\n",
    "    SELECT \n",
    "        name\n",
    "    FROM\n",
    "        sqlite_schema\n",
    "    WHERE\n",
    "        type='table'\n",
    "    ORDER BY name''').fetchall()"
   ]
  },
  {
   "cell_type": "markdown",
   "id": "afe091d6-6bee-437a-a6f5-0d7721013cae",
   "metadata": {},
   "source": [
    "### Importando os dados nas tabelas criadas\n",
    "\n",
    "A estratégia para import dos arquivos foi criar um loop para realizar todas as cargas sem a necessidade de codar individualmente. Para a carga dos arquivos de `player_attributes` e `team_attributes`, como a primeira coluna não tinha alias, a estratégia foi indicar o número da linha de cabeçalho e sobrepor os nomes com o do array passado como parâmetro. Por este motivo, resolvi fazer a carga fora do loop criado para os demais dados."
   ]
  },
  {
   "cell_type": "code",
   "execution_count": 231,
   "id": "ef2ff4e2-bb49-4750-b157-2ae0334c9632",
   "metadata": {},
   "outputs": [],
   "source": [
    "#importando dados que estão com cabeçalho ok\n",
    "files_to_load = ['Country','League','Match','Player','Team']\n",
    "\n",
    "for files in files_to_load:\n",
    "    df = pd.read_csv('..\\\\..\\\\Data\\\\' + str(files) + '.csv')\n",
    "    df.to_sql(str(files).lower(),conn,if_exists='append',index=False)\n",
    "    \n",
    "#importando dados que estão com problema no cabeçalho\n",
    "#player_attributes\n",
    "player_attributes = pd.read_csv(\"..\\\\..\\\\Data\\\\Player_Attributes.csv\",header=0,names=['id','player_attributes'])\n",
    "player_attributes.to_sql('player_attributes',conn,if_exists='append',index=False)\n",
    "\n",
    "#team_attributes\n",
    "team_attributes = pd.read_csv(\"..\\\\..\\\\Data\\\\Team_Attributes.csv\",header=0,names=['id','team_attributes'])\n",
    "team_attributes.to_sql('team_attributes',conn,if_exists='append',index=False)\n",
    "\n",
    "#commita alteração no banco\n",
    "conn.commit()"
   ]
  },
  {
   "cell_type": "markdown",
   "id": "9353cce3-4ef9-4c46-8aa1-a6c7153e0b81",
   "metadata": {},
   "source": [
    "### Realizando um check para garantir que os dados foram carregados com sucesso\n",
    "A ideia aqui é apenas garantir que os dados estão refletindo o que está nos arquivos. Este step **não irá focar na resolução de incosistências de dados** a menos que tenham à ver com problemas de importação. Demais validações e correções dos dados serão realizadas posteriormente.\n",
    "\n",
    "Para realizar este check irei fazer o processo inverso de consultar os dados das tabelas e transportar para o pandas."
   ]
  },
  {
   "cell_type": "code",
   "execution_count": 232,
   "id": "f22b3c86-dff4-413d-89cf-2105eab9161a",
   "metadata": {},
   "outputs": [
    {
     "name": "stdout",
     "output_type": "stream",
     "text": [
      "Table name: country\n",
      "Columns: ['id', 'name']\n",
      "Number of rows: 18\n",
      "Rows examples: \n",
      "         id      name\n",
      "0       1.0   Belgium\n",
      "7   17642.0  Portugal\n",
      "1    1729.0   England\n",
      "3    7809.0   Germany\n",
      "16      0.0      None\n",
      "\n",
      "Table name: league\n",
      "Columns: ['id', 'country_id', 'name']\n",
      "Number of rows: 13\n",
      "Rows examples: \n",
      "       id country_id                     name\n",
      "11  21518      21518          Spain LIGA BBVA\n",
      "4    7809       7809    Germany 1. Bundesliga\n",
      "7   13274      13274   Netherlands Eredivisie\n",
      "10  19694      19694  Scotland Premier League\n",
      "8   15722      15722       Poland Ekstraklasa\n",
      "\n",
      "Table name: match\n",
      "Columns: ['id', 'country_id', 'league_id', 'season', 'stage', 'date', 'match_api_id', 'home_team_api_id', 'away_team_api_id', 'home_team_goal', 'away_team_goal', 'home_player_X1', 'home_player_X2', 'home_player_X3', 'home_player_X4', 'home_player_X5', 'home_player_X6', 'home_player_X7', 'home_player_X8', 'home_player_X9', 'home_player_X10', 'home_player_X11', 'away_player_X1', 'away_player_X2', 'away_player_X3', 'away_player_X4', 'away_player_X5', 'away_player_X6', 'away_player_X7', 'away_player_X8', 'away_player_X9', 'away_player_X10', 'away_player_X11', 'home_player_Y1', 'home_player_Y2', 'home_player_Y3', 'home_player_Y4', 'home_player_Y5', 'home_player_Y6', 'home_player_Y7', 'home_player_Y8', 'home_player_Y9', 'home_player_Y10', 'home_player_Y11', 'away_player_Y1', 'away_player_Y2', 'away_player_Y3', 'away_player_Y4', 'away_player_Y5', 'away_player_Y6', 'away_player_Y7', 'away_player_Y8', 'away_player_Y9', 'away_player_Y10', 'away_player_Y11', 'home_player_1', 'home_player_2', 'home_player_3', 'home_player_4', 'home_player_5', 'home_player_6', 'home_player_7', 'home_player_8', 'home_player_9', 'home_player_10', 'home_player_11', 'away_player_1', 'away_player_2', 'away_player_3', 'away_player_4', 'away_player_5', 'away_player_6', 'away_player_7', 'away_player_8', 'away_player_9', 'away_player_10', 'away_player_11', 'goal', 'shoton', 'shotoff', 'foulcommit', 'card', 'cross', 'corner', 'possession', 'B365H', 'B365D', 'B365A', 'BWH', 'BWD', 'BWA', 'IWH', 'IWD', 'IWA', 'LBH', 'LBD', 'LBA', 'PSH', 'PSD', 'PSA', 'WHH', 'WHD', 'WHA', 'SJH', 'SJD', 'SJA', 'VCH', 'VCD', 'VCA', 'GBH', 'GBD', 'GBA', 'BSH', 'BSD', 'BSA']\n",
      "Number of rows: 25979\n",
      "Rows examples: \n",
      "          id  country_id  league_id     season  stage                 date  \\\n",
      "2807    2808        1729       1729  2010/2011     38  2011-05-22 00:00:00   \n",
      "19260  19261       17642      17642  2014/2015     27  2015-04-04 00:00:00   \n",
      "2418    2419        1729       1729  2009/2010     38  2010-05-09 00:00:00   \n",
      "13384  13385       13274      13274  2008/2009     20  2009-01-31 00:00:00   \n",
      "16351  16352       15722      15722  2010/2011     26  2011-05-11 00:00:00   \n",
      "\n",
      "       match_api_id  home_team_api_id  away_team_api_id  home_team_goal  ...  \\\n",
      "2807         840234             10194              8528               0  ...   \n",
      "19260       1750717              9807              8348               2  ...   \n",
      "2418         659369              8602              8472               2  ...   \n",
      "13384        523824              8525              8277               0  ...   \n",
      "16351        838805              8322              1601               0  ...   \n",
      "\n",
      "       SJA   VCH   VCD   VCA   GBH   GBD   GBA   BSH   BSD   BSA  \n",
      "2807   2.4  2.75  3.60  2.50  2.75  3.30  2.40  2.62  3.50  2.38  \n",
      "19260  NaN  2.20  3.13  3.70   NaN   NaN   NaN   NaN   NaN   NaN  \n",
      "2418   3.0  2.30  3.25  3.20  2.35  3.25  2.90  2.38  3.25  3.00  \n",
      "13384  3.6  2.00  3.40  3.25  1.90  3.40  3.75  1.95  3.40  3.40  \n",
      "16351  NaN   NaN   NaN   NaN   NaN   NaN   NaN   NaN   NaN   NaN  \n",
      "\n",
      "[5 rows x 115 columns]\n",
      "\n",
      "Table name: player\n",
      "Columns: ['id', 'player_api_id', 'player_name', 'player_fifa_api_id', 'birthday', 'height', 'weight']\n",
      "Number of rows: 11060\n",
      "Rows examples: \n",
      "        id  player_api_id          player_name  player_fifa_api_id  \\\n",
      "5975  5982         664587    Lassana Coulibaly              230107   \n",
      "8491  8505          37597          Pedro Lopez              157479   \n",
      "4527  4531          71518              Jailson              184444   \n",
      "2069  2072         243440   Dammyano Grootfaam              200090   \n",
      "3399  3403         492132  Florent Hadergjonaj              220620   \n",
      "\n",
      "                 birthday  height  weight  \n",
      "5975  1996-04-10 00:00:00  175.26     148  \n",
      "8491  1983-11-01 00:00:00  175.26     159  \n",
      "4527  1981-06-16 00:00:00  175.26     148  \n",
      "2069  1991-05-13 00:00:00  182.88     152  \n",
      "3399  1994-07-31 00:00:00  182.88     159  \n",
      "\n",
      "Table name: player_attributes\n",
      "Columns: ['id', 'player_attributes']\n",
      "Number of rows: 183978\n",
      "Rows examples: \n",
      "            id                                  player_attributes\n",
      "174632  174632  {\"id\": \"174633\", \"player_fifa_api_id\": \"5430\",...\n",
      "109980  109980  {\"id\": \"109981\", \"player_fifa_api_id\": \"200158...\n",
      "166256  166256  {\"id\": \"166257\", \"player_fifa_api_id\": \"134821...\n",
      "52609    52609  {\"id\": \"52610\", \"player_fifa_api_id\": \"183346\"...\n",
      "112551  112551  {\"id\": \"112552\", \"player_fifa_api_id\": \"192638...\n",
      "\n",
      "Table name: team\n",
      "Columns: ['id', 'team_api_id', 'team_fifa_api_id', 'team_long_name', 'team_short_name']\n",
      "Number of rows: 299\n",
      "Rows examples: \n",
      "        id  team_api_id  team_fifa_api_id team_long_name team_short_name\n",
      "277  45330         7878          110832.0     Granada CF             GRA\n",
      "79   10300         8588              64.0        RC Lens             LEN\n",
      "151  24273         9876             206.0  Hellas Verona             VER\n",
      "157  26548         8674            1915.0   FC Groningen             GRO\n",
      "285  49116         6493            1714.0  AC Bellinzona             BEL\n",
      "\n",
      "Table name: team_attributes\n",
      "Columns: ['id', 'team_attributes']\n",
      "Number of rows: 1460\n",
      "Rows examples: \n",
      "        id                                    team_attributes\n",
      "456    456  {\"id\": \"457\", \"team_fifa_api_id\": \"246\", \"team...\n",
      "150    150  {\"id\": \"151\", \"team_fifa_api_id\": \"675\", \"team...\n",
      "1407  1407  {\"id\": \"1408\", \"team_fifa_api_id\": \"1907\", \"te...\n",
      "478    478  {\"id\": \"479\", \"team_fifa_api_id\": \"144\", \"team...\n",
      "962    962  {\"id\": \"963\", \"team_fifa_api_id\": \"73\", \"team_...\n",
      "\n"
     ]
    }
   ],
   "source": [
    "#criando um loop que irá consultar todas as tabelas e trazer informações básicas\n",
    "tables_check = ['country','league','match','player','player_attributes','team','team_attributes']\n",
    "for table in tables_check:\n",
    "    query = 'SELECT * FROM ' + str(table)\n",
    "    df = pd.read_sql(query,conn)\n",
    "    print('Table name: ' + table + '\\n' + \n",
    "          'Columns: ' + str(list(df.columns)) + '\\n'\n",
    "          'Number of rows: ' + str(df.shape[0]) + '\\n'\n",
    "          'Rows examples: ' + '\\n' + str(df.sample(5)) + '\\n'\n",
    "         )"
   ]
  },
  {
   "cell_type": "markdown",
   "id": "851e99fa-9aeb-412b-b9ed-73c289c3fd77",
   "metadata": {},
   "source": [
    "Inconsistências mapeadas\n",
    "- country\n",
    "  - Possui dado sem `name`\n",
    "- league\n",
    "  - Aparentemente os valores dos campos `id` e `country_id` são idênticos\n",
    "- match\n",
    "  - Tem menos linhas em relação ao arquivo original, mas é porque em algumas linhas os dados de algumas colunas estavam quebrados em algumas linhas novas ou tabs. Como este é um problema de importação, irei tratar aqui no mesmo script"
   ]
  },
  {
   "cell_type": "markdown",
   "id": "561cdd22-81bb-4b30-a311-948e1a3ac625",
   "metadata": {},
   "source": [
    "### Corrigindo problemas de importação"
   ]
  },
  {
   "cell_type": "code",
   "execution_count": 233,
   "id": "441d00c4-ea2f-4add-ac4b-b0563e83f570",
   "metadata": {},
   "outputs": [
    {
     "data": {
      "text/plain": [
       "[('<goal>\\n\\t\\t<value>\\n\\t\\t\\t<comment>n</comment>\\n\\t\\t\\t<stats>\\n\\t\\t\\t\\t<goals>1</goals>\\n\\t\\t\\t\\t<shoton>1</shoton>\\n\\t\\t\\t</stats>\\n\\t\\t\\t<event_incident_typefk>6</event_incident_typefk>\\n\\t\\t\\t<elapsed>19</elapsed>\\n\\t\\t\\t<subtype>volley</subtype>\\n\\t\\t\\t<player1>37436</player1>\\n\\t\\t\\t<sortorder>2</sortorder>\\n\\t\\t\\t<team>9825</team>\\n\\t\\t\\t<id>3110220</id>\\n\\t\\t\\t<n>236</n>\\n\\t\\t\\t<type>goal</type>\\n\\t\\t\\t<goal_type>n</goal_type>\\n\\t\\t</value>\\n\\t\\t<value>\\n\\t\\t\\t<comment>n</comment>\\n\\t\\t\\t<stats>\\n\\t\\t\\t\\t<goals>1</goals>\\n\\t\\t\\t\\t<shoton>1</shoton>\\n\\t\\t\\t</stats>\\n\\t\\t\\t<event_incident_typefk>393</event_incident_typefk>\\n\\t\\t\\t<elapsed>59</elapsed>\\n\\t\\t\\t<player2>36378</player2>\\n\\t\\t\\t<subtype>shot</subtype>\\n\\t\\t\\t<player1>75489</player1>\\n\\t\\t\\t<sortorder>2</sortorder>\\n\\t\\t\\t<team>9825</team>\\n\\t\\t\\t<id>3110495</id>\\n\\t\\t\\t<n>268</n>\\n\\t\\t\\t<type>goal</type>\\n\\t\\t\\t<goal_type>n</goal_type>\\n\\t\\t</value>\\n\\t</goal>\\n\\t',)]"
      ]
     },
     "execution_count": 233,
     "metadata": {},
     "output_type": "execute_result"
    }
   ],
   "source": [
    "#realizando replace nos dados que carregaram quebrados\n",
    "c.execute('''\n",
    "    SELECT\n",
    "        goal\n",
    "    FROM\n",
    "        match\n",
    "    WHERE\n",
    "        id = 3639\n",
    "''').fetchall()"
   ]
  },
  {
   "cell_type": "code",
   "execution_count": 6,
   "id": "2cae177a-b9bc-4e8a-bd6d-ee7ad690e5c5",
   "metadata": {},
   "outputs": [
    {
     "data": {
      "text/plain": [
       "<sqlite3.Cursor at 0x1e84aa222d0>"
      ]
     },
     "execution_count": 6,
     "metadata": {},
     "output_type": "execute_result"
    }
   ],
   "source": [
    "#realizando replace nos dados que carregaram quebrados\n",
    "c.execute('''\n",
    "    UPDATE match\n",
    "    SET goal = REPLACE(REPLACE(goal,'\\n',''),'\\t','')\n",
    "    WHERE\n",
    "        goal LIKE '%\\n%' OR\n",
    "        goal LIKE '%\\t%'\n",
    "''')"
   ]
  },
  {
   "cell_type": "code",
   "execution_count": 7,
   "id": "269a982b-10b8-4648-a4cb-b7b4d02b29de",
   "metadata": {},
   "outputs": [
    {
     "data": {
      "text/plain": [
       "[('<goal><value><comment>n</comment><stats><goals>1</goals><shoton>1</shoton></stats><event_incident_typefk>6</event_incident_typefk><elapsed>19</elapsed><subtype>volley</subtype><player1>37436</player1><sortorder>2</sortorder><team>9825</team><id>3110220</id><n>236</n><type>goal</type><goal_type>n</goal_type></value><value><comment>n</comment><stats><goals>1</goals><shoton>1</shoton></stats><event_incident_typefk>393</event_incident_typefk><elapsed>59</elapsed><player2>36378</player2><subtype>shot</subtype><player1>75489</player1><sortorder>2</sortorder><team>9825</team><id>3110495</id><n>268</n><type>goal</type><goal_type>n</goal_type></value></goal>',)]"
      ]
     },
     "execution_count": 7,
     "metadata": {},
     "output_type": "execute_result"
    }
   ],
   "source": [
    "#check do resultado\n",
    "c.execute('''\n",
    "    SELECT\n",
    "        goal\n",
    "    FROM\n",
    "        match\n",
    "    WHERE\n",
    "        id = 3639\n",
    "''').fetchall()"
   ]
  },
  {
   "cell_type": "code",
   "execution_count": 8,
   "id": "433ba2a6-81e5-46c5-8987-09a26fc36806",
   "metadata": {},
   "outputs": [],
   "source": [
    "#commitando alteração\n",
    "conn.commit()"
   ]
  },
  {
   "cell_type": "code",
   "execution_count": 9,
   "id": "5cd5cb2f-7ed0-4057-bead-558b70ab3eaf",
   "metadata": {},
   "outputs": [],
   "source": [
    "#fechando conexão\n",
    "conn.close()"
   ]
  }
 ],
 "metadata": {
  "kernelspec": {
   "display_name": "Python 3 (ipykernel)",
   "language": "python",
   "name": "python3"
  },
  "language_info": {
   "codemirror_mode": {
    "name": "ipython",
    "version": 3
   },
   "file_extension": ".py",
   "mimetype": "text/x-python",
   "name": "python",
   "nbconvert_exporter": "python",
   "pygments_lexer": "ipython3",
   "version": "3.9.12"
  }
 },
 "nbformat": 4,
 "nbformat_minor": 5
}
